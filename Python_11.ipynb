{
  "nbformat": 4,
  "nbformat_minor": 0,
  "metadata": {
    "colab": {
      "name": "Python_11.ipynb",
      "provenance": [],
      "authorship_tag": "ABX9TyOEax/PAxUgJhHRYEii7scU",
      "include_colab_link": true
    },
    "kernelspec": {
      "name": "python3",
      "display_name": "Python 3"
    }
  },
  "cells": [
    {
      "cell_type": "markdown",
      "metadata": {
        "id": "view-in-github",
        "colab_type": "text"
      },
      "source": [
        "<a href=\"https://colab.research.google.com/github/saketh0007/Data-Scientist-program/blob/master/Python_11.ipynb\" target=\"_parent\"><img src=\"https://colab.research.google.com/assets/colab-badge.svg\" alt=\"Open In Colab\"/></a>"
      ]
    },
    {
      "cell_type": "code",
      "metadata": {
        "id": "Z4RsK48dZKYB"
      },
      "source": [
        "#session_11"
      ],
      "execution_count": 1,
      "outputs": []
    },
    {
      "cell_type": "code",
      "metadata": {
        "colab": {
          "base_uri": "https://localhost:8080/"
        },
        "id": "z4hZNLePaGv3",
        "outputId": "45d55fdb-4263-4c2d-adeb-cc96a5acf2f0"
      },
      "source": [
        "l1 = [10,10,20,25,30,35,40,45,20,25]\r\n",
        "l2 = []\r\n",
        "for value in l1:\r\n",
        "    if value not in l2:\r\n",
        "        l2.append(value)\r\n",
        "        print('----->Iteretion',l2)\r\n",
        "print(l2)"
      ],
      "execution_count": 3,
      "outputs": [
        {
          "output_type": "stream",
          "text": [
            "----->Iteretion [10]\n",
            "----->Iteretion [10, 20]\n",
            "----->Iteretion [10, 20, 25]\n",
            "----->Iteretion [10, 20, 25, 30]\n",
            "----->Iteretion [10, 20, 25, 30, 35]\n",
            "----->Iteretion [10, 20, 25, 30, 35, 40]\n",
            "----->Iteretion [10, 20, 25, 30, 35, 40, 45]\n",
            "[10, 20, 25, 30, 35, 40, 45]\n"
          ],
          "name": "stdout"
        }
      ]
    },
    {
      "cell_type": "markdown",
      "metadata": {
        "id": "iUbShUu6a2WU"
      },
      "source": [
        "# sets \r\n",
        "* Mutable \r\n",
        "* Unordered\r\n",
        "* all the elements should be unique\r\n",
        "* all the elements should be immutable "
      ]
    },
    {
      "cell_type": "code",
      "metadata": {
        "colab": {
          "base_uri": "https://localhost:8080/"
        },
        "id": "BU5Z1hA4arIp",
        "outputId": "976614e7-f95e-4a4a-f393-b1c686fa3ca4"
      },
      "source": [
        "s1 = {10,20,30,40,50,60}\r\n",
        "s2 = {40,50,60,70,80,90}\r\n",
        "s3 = s1.union(s2)\r\n",
        "print(s3)"
      ],
      "execution_count": 4,
      "outputs": [
        {
          "output_type": "stream",
          "text": [
            "{70, 40, 10, 80, 50, 20, 90, 60, 30}\n"
          ],
          "name": "stdout"
        }
      ]
    },
    {
      "cell_type": "code",
      "metadata": {
        "colab": {
          "base_uri": "https://localhost:8080/"
        },
        "id": "wTDGOIglb4zZ",
        "outputId": "9188294b-52d5-4890-a507-2c584216b90b"
      },
      "source": [
        "s1 = {10,20,30,40,50,60}\r\n",
        "s2 = {40,50,60,70,80,90}\r\n",
        "s3 = s1.intersection(s2)\r\n",
        "print(s3)"
      ],
      "execution_count": 5,
      "outputs": [
        {
          "output_type": "stream",
          "text": [
            "{40, 50, 60}\n"
          ],
          "name": "stdout"
        }
      ]
    },
    {
      "cell_type": "code",
      "metadata": {
        "colab": {
          "base_uri": "https://localhost:8080/"
        },
        "id": "cTxMVw-pcJXZ",
        "outputId": "867134cd-c8a9-460d-bd68-0b5cb2188d10"
      },
      "source": [
        "s3 = s1.difference(s2)\r\n",
        "print(s3)"
      ],
      "execution_count": 6,
      "outputs": [
        {
          "output_type": "stream",
          "text": [
            "{10, 20, 30}\n"
          ],
          "name": "stdout"
        }
      ]
    },
    {
      "cell_type": "code",
      "metadata": {
        "colab": {
          "base_uri": "https://localhost:8080/"
        },
        "id": "hLif44macU5J",
        "outputId": "ab0222d7-3d48-4ba3-dba8-6a97cd9b4a63"
      },
      "source": [
        "s3 = s2.difference(s1)\r\n",
        "print(s3)"
      ],
      "execution_count": 7,
      "outputs": [
        {
          "output_type": "stream",
          "text": [
            "{80, 90, 70}\n"
          ],
          "name": "stdout"
        }
      ]
    },
    {
      "cell_type": "code",
      "metadata": {
        "colab": {
          "base_uri": "https://localhost:8080/"
        },
        "id": "C0uFFWNRcc0x",
        "outputId": "d5c747b3-6739-42b5-fe61-e5600148fbf4"
      },
      "source": [
        "s3 = s1.symmetric_difference(s2)\r\n",
        "print(s3)"
      ],
      "execution_count": 9,
      "outputs": [
        {
          "output_type": "stream",
          "text": [
            "{70, 10, 80, 20, 90, 30}\n"
          ],
          "name": "stdout"
        }
      ]
    },
    {
      "cell_type": "code",
      "metadata": {
        "colab": {
          "base_uri": "https://localhost:8080/"
        },
        "id": "R4cY2qRBcyVC",
        "outputId": "878d9759-c713-4aa7-856c-a8ffe4152350"
      },
      "source": [
        "s3 = {10,20,30}\r\n",
        "print(s3.issubset(s1))\r\n",
        "print(s1.issuperset(s3))"
      ],
      "execution_count": 10,
      "outputs": [
        {
          "output_type": "stream",
          "text": [
            "True\n",
            "True\n"
          ],
          "name": "stdout"
        }
      ]
    },
    {
      "cell_type": "code",
      "metadata": {
        "colab": {
          "base_uri": "https://localhost:8080/"
        },
        "id": "5J573jkydPjp",
        "outputId": "8db6f0fa-24d4-46b6-8419-705d6e3d87c5"
      },
      "source": [
        "s1.add(70)\r\n",
        "print(s1)"
      ],
      "execution_count": 11,
      "outputs": [
        {
          "output_type": "stream",
          "text": [
            "{70, 40, 10, 50, 20, 60, 30}\n"
          ],
          "name": "stdout"
        }
      ]
    },
    {
      "cell_type": "code",
      "metadata": {
        "colab": {
          "base_uri": "https://localhost:8080/"
        },
        "id": "tvZ8NWM9dkdS",
        "outputId": "570de7fe-8c09-495e-aeb7-a5f8e0170470"
      },
      "source": [
        "s1 = {10,20,30,40,50,60}\r\n",
        "s2 = {40,50,60,70,80,90}\r\n",
        "s1.update(s2)\r\n",
        "print(s1)\r\n",
        "print(s2)"
      ],
      "execution_count": 12,
      "outputs": [
        {
          "output_type": "stream",
          "text": [
            "{70, 40, 10, 80, 50, 20, 90, 60, 30}\n",
            "{70, 40, 80, 50, 90, 60}\n"
          ],
          "name": "stdout"
        }
      ]
    },
    {
      "cell_type": "code",
      "metadata": {
        "colab": {
          "base_uri": "https://localhost:8080/"
        },
        "id": "_9fUgwQaduPC",
        "outputId": "5c5dbee5-ce9b-4723-85c3-92655c5b2d8e"
      },
      "source": [
        "s1 = {10,20,30,40,50,60}\r\n",
        "s2 = {40,50,60,70,80,90}\r\n",
        "s1.intersection_update(s2)\r\n",
        "print(s1)"
      ],
      "execution_count": 13,
      "outputs": [
        {
          "output_type": "stream",
          "text": [
            "{40, 50, 60}\n"
          ],
          "name": "stdout"
        }
      ]
    },
    {
      "cell_type": "code",
      "metadata": {
        "colab": {
          "base_uri": "https://localhost:8080/"
        },
        "id": "GLGv4Ru_d41J",
        "outputId": "bf1a171d-b06d-429d-f7fc-a6f5d100fc34"
      },
      "source": [
        "s1 = {10,20,30,40,50,60}\r\n",
        "s2 = {40,50,60,70,80,90}\r\n",
        "s1.difference_update(s2)\r\n",
        "print(s1)"
      ],
      "execution_count": 14,
      "outputs": [
        {
          "output_type": "stream",
          "text": [
            "{10, 20, 30}\n"
          ],
          "name": "stdout"
        }
      ]
    },
    {
      "cell_type": "code",
      "metadata": {
        "colab": {
          "base_uri": "https://localhost:8080/"
        },
        "id": "9k8lvwbaeI3x",
        "outputId": "7f9864d7-a1cd-46e4-be11-15386c5d21d6"
      },
      "source": [
        "s1.symmetric_difference_update(s2)\r\n",
        "print(s1)"
      ],
      "execution_count": 15,
      "outputs": [
        {
          "output_type": "stream",
          "text": [
            "{70, 40, 10, 80, 50, 20, 90, 60, 30}\n"
          ],
          "name": "stdout"
        }
      ]
    },
    {
      "cell_type": "markdown",
      "metadata": {
        "id": "iVFpzK9geW2R"
      },
      "source": [
        "# Delete \r\n",
        "* pop\r\n",
        "* remove \r\n",
        "* Discard \r\n",
        "* Clear\r\n",
        "* del "
      ]
    },
    {
      "cell_type": "code",
      "metadata": {
        "colab": {
          "base_uri": "https://localhost:8080/"
        },
        "id": "mdI9PAJbePXp",
        "outputId": "0f103c51-439e-4b8e-807f-fa793ada8bae"
      },
      "source": [
        "s = {10,20,30,40,10,20,30,10,30}\r\n",
        "print(s)"
      ],
      "execution_count": 16,
      "outputs": [
        {
          "output_type": "stream",
          "text": [
            "{40, 10, 20, 30}\n"
          ],
          "name": "stdout"
        }
      ]
    },
    {
      "cell_type": "code",
      "metadata": {
        "colab": {
          "base_uri": "https://localhost:8080/"
        },
        "id": "9X1PTNide0Rs",
        "outputId": "eb860c09-18b3-44a2-fdad-73aa3a43c7a2"
      },
      "source": [
        "r = s.pop()\r\n",
        "print(s,r)"
      ],
      "execution_count": 17,
      "outputs": [
        {
          "output_type": "stream",
          "text": [
            "{10, 20, 30} 40\n"
          ],
          "name": "stdout"
        }
      ]
    },
    {
      "cell_type": "code",
      "metadata": {
        "colab": {
          "base_uri": "https://localhost:8080/",
          "height": 167
        },
        "id": "Es3NpOlie6sa",
        "outputId": "e3f1d907-725e-4146-ca8b-a7980a6cad16"
      },
      "source": [
        "s.remove(300)"
      ],
      "execution_count": 18,
      "outputs": [
        {
          "output_type": "error",
          "ename": "KeyError",
          "evalue": "ignored",
          "traceback": [
            "\u001b[0;31m---------------------------------------------------------------------------\u001b[0m",
            "\u001b[0;31mKeyError\u001b[0m                                  Traceback (most recent call last)",
            "\u001b[0;32m<ipython-input-18-052a573d23a5>\u001b[0m in \u001b[0;36m<module>\u001b[0;34m()\u001b[0m\n\u001b[0;32m----> 1\u001b[0;31m \u001b[0ms\u001b[0m\u001b[0;34m.\u001b[0m\u001b[0mremove\u001b[0m\u001b[0;34m(\u001b[0m\u001b[0;36m300\u001b[0m\u001b[0;34m)\u001b[0m\u001b[0;34m\u001b[0m\u001b[0;34m\u001b[0m\u001b[0m\n\u001b[0m",
            "\u001b[0;31mKeyError\u001b[0m: 300"
          ]
        }
      ]
    },
    {
      "cell_type": "code",
      "metadata": {
        "colab": {
          "base_uri": "https://localhost:8080/"
        },
        "id": "T9sPLF52fHXB",
        "outputId": "b2a43699-8766-4706-d1ee-445131c44b8f"
      },
      "source": [
        "s.discard(300)\r\n",
        "print(s)"
      ],
      "execution_count": 22,
      "outputs": [
        {
          "output_type": "stream",
          "text": [
            "{10, 20, 30}\n"
          ],
          "name": "stdout"
        }
      ]
    },
    {
      "cell_type": "code",
      "metadata": {
        "colab": {
          "base_uri": "https://localhost:8080/"
        },
        "id": "PQvm6zD2fLAx",
        "outputId": "d1310f17-1365-4b16-e7e7-57ab95d63fc1"
      },
      "source": [
        "l = [10,20,30,40,10,20,30,10,30]\r\n",
        "s = set(l)\r\n",
        "print(s)"
      ],
      "execution_count": 23,
      "outputs": [
        {
          "output_type": "stream",
          "text": [
            "{40, 10, 20, 30}\n"
          ],
          "name": "stdout"
        }
      ]
    },
    {
      "cell_type": "code",
      "metadata": {
        "colab": {
          "base_uri": "https://localhost:8080/"
        },
        "id": "mCdYr8SHffka",
        "outputId": "9b63722c-57ba-4e13-9286-fff6fcfe142e"
      },
      "source": [
        "s = 'aabbccddeeaaaaa'\r\n",
        "s1 = set(s)\r\n",
        "print(s1)\r\n",
        "\r\n",
        "max_count = 0\r\n",
        "max_char = \"\"\r\n",
        "for value in s1:\r\n",
        "    char_count = s.count(value)\r\n",
        "    if char_count > max_count:\r\n",
        "        max_char = value \r\n",
        "        max_count = char_count\r\n",
        "        print('----->Iteretion',max_char)\r\n",
        "        print('----->Iteretion',max_count)\r\n",
        "print(max_char,max_count)"
      ],
      "execution_count": 28,
      "outputs": [
        {
          "output_type": "stream",
          "text": [
            "{'c', 'a', 'd', 'b', 'e'}\n",
            "----->Iteretion c\n",
            "----->Iteretion 2\n",
            "----->Iteretion a\n",
            "----->Iteretion 7\n",
            "a 7\n"
          ],
          "name": "stdout"
        }
      ]
    },
    {
      "cell_type": "code",
      "metadata": {
        "colab": {
          "base_uri": "https://localhost:8080/"
        },
        "id": "QTvYhCfkhHGs",
        "outputId": "855dd0cf-c2c4-483b-fdfa-308cffae5f03"
      },
      "source": [
        "l = {100,200,300,400,500}\r\n",
        "print(sum(l))\r\n",
        "print(max(l))\r\n",
        "print(min(l))\r\n",
        "print(round(15.25555,2))"
      ],
      "execution_count": 29,
      "outputs": [
        {
          "output_type": "stream",
          "text": [
            "1500\n",
            "500\n",
            "100\n",
            "15.26\n"
          ],
          "name": "stdout"
        }
      ]
    },
    {
      "cell_type": "code",
      "metadata": {
        "id": "tO_ZWtpPh_pV"
      },
      "source": [
        "import random"
      ],
      "execution_count": 30,
      "outputs": []
    },
    {
      "cell_type": "code",
      "metadata": {
        "colab": {
          "base_uri": "https://localhost:8080/"
        },
        "id": "DWiejGCQiL4y",
        "outputId": "3b5dcbb6-7a9b-4c1c-a9bd-c05cca2f9f70"
      },
      "source": [
        "print(random.random())"
      ],
      "execution_count": 42,
      "outputs": [
        {
          "output_type": "stream",
          "text": [
            "0.3161744654364339\n"
          ],
          "name": "stdout"
        }
      ]
    },
    {
      "cell_type": "code",
      "metadata": {
        "colab": {
          "base_uri": "https://localhost:8080/"
        },
        "id": "2Jf8H3MUiRWT",
        "outputId": "59ac8ac6-eb88-4798-faab-aae808495622"
      },
      "source": [
        "dice = [1,2,3,4,5,6]\r\n",
        "print(random.choice(dice))"
      ],
      "execution_count": 62,
      "outputs": [
        {
          "output_type": "stream",
          "text": [
            "1\n"
          ],
          "name": "stdout"
        }
      ]
    },
    {
      "cell_type": "code",
      "metadata": {
        "colab": {
          "base_uri": "https://localhost:8080/"
        },
        "id": "zzgRyxuOi1ji",
        "outputId": "ea8a3d85-af4e-4355-fd32-b768a2e2cbe0"
      },
      "source": [
        "print(random.randint(1,5))"
      ],
      "execution_count": 81,
      "outputs": [
        {
          "output_type": "stream",
          "text": [
            "5\n"
          ],
          "name": "stdout"
        }
      ]
    },
    {
      "cell_type": "code",
      "metadata": {
        "colab": {
          "base_uri": "https://localhost:8080/"
        },
        "id": "vfwaRmvajBkT",
        "outputId": "83693be4-6270-4e80-978c-6e99a5411e57"
      },
      "source": [
        "print(random.randrange(1,5))"
      ],
      "execution_count": 111,
      "outputs": [
        {
          "output_type": "stream",
          "text": [
            "1\n"
          ],
          "name": "stdout"
        }
      ]
    },
    {
      "cell_type": "code",
      "metadata": {
        "colab": {
          "base_uri": "https://localhost:8080/"
        },
        "id": "F0kxUXHEjWPb",
        "outputId": "fb7ab0df-b8dd-4291-b158-9cffe2d6f167"
      },
      "source": [
        "print(random.uniform(10,20))"
      ],
      "execution_count": 125,
      "outputs": [
        {
          "output_type": "stream",
          "text": [
            "12.217057932928682\n"
          ],
          "name": "stdout"
        }
      ]
    },
    {
      "cell_type": "code",
      "metadata": {
        "id": "kaij8zqEjnsy"
      },
      "source": [
        "#creating password\r\n",
        "#8 char longpassword\r\n",
        "#1 uppercase\r\n",
        "#1 lower case \r\n",
        "#1 special  char\r\n",
        "#5 digits\r\n"
      ],
      "execution_count": 126,
      "outputs": []
    },
    {
      "cell_type": "code",
      "metadata": {
        "colab": {
          "base_uri": "https://localhost:8080/"
        },
        "id": "-v83-p9ekFhb",
        "outputId": "99c53b9d-00cd-40a9-8c25-b75f36183e84"
      },
      "source": [
        "upper = chr(random.randint(ord('A'),ord('Z')))\r\n",
        "lower = chr(random.randint(ord('a'),ord('z')))\r\n",
        "print(upper)\r\n",
        "print(lower)\r\n",
        "all_chrs = [ '@','#','$','&','*']\r\n",
        "special = random.choice(all_chrs)\r\n",
        "print(special)\r\n",
        "digits = str(random.randint(10000,99999))\r\n",
        "print(digits)\r\n",
        "password_patt = upper + lower + special + digits\r\n",
        "print(password_patt)\r\n",
        "\r\n",
        "l = random.sample(password_patt,8)\r\n",
        "print(l)\r\n",
        "\r\n",
        "password = (\"\").join(l)\r\n",
        "print(password)"
      ],
      "execution_count": 135,
      "outputs": [
        {
          "output_type": "stream",
          "text": [
            "Q\n",
            "p\n",
            "@\n",
            "51487\n",
            "Qp@51487\n",
            "['Q', 'p', '7', '5', '@', '4', '8', '1']\n",
            "Qp75@481\n"
          ],
          "name": "stdout"
        }
      ]
    },
    {
      "cell_type": "code",
      "metadata": {
        "id": "N5ztqxtEkXpb"
      },
      "source": [
        ""
      ],
      "execution_count": null,
      "outputs": []
    }
  ]
}